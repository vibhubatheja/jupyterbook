{
 "cells": [
  {
   "cell_type": "code",
   "execution_count": 1,
   "metadata": {
    "ExecuteTime": {
     "end_time": "2021-01-16T22:15:12.644121Z",
     "start_time": "2021-01-16T22:15:11.844073Z"
    },
    "tags": [
     "hide-input",
     "remove-input"
    ]
   },
   "outputs": [],
   "source": [
    "import numpy as np\n",
    "import scipy.special as sci\n",
    "import matplotlib.pyplot as plt\n",
    "from scipy import stats # linregress\n",
    "import pandas as pd\n",
    "from IPython.display import Latex"
   ]
  },
  {
   "cell_type": "code",
   "execution_count": 2,
   "metadata": {
    "ExecuteTime": {
     "end_time": "2021-01-16T23:51:55.297392Z",
     "start_time": "2021-01-16T23:51:55.069965Z"
    },
    "tags": [
     "hide-input"
    ]
   },
   "outputs": [
    {
     "data": {
      "application/papermill.record/image/png": "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",
      "application/papermill.record/text/plain": "<Figure size 600x400 with 1 Axes>"
     },
     "metadata": {
      "scrapbook": {
       "mime_prefix": "application/papermill.record/",
       "name": "em_fit"
      }
     },
     "output_type": "display_data"
    }
   ],
   "source": [
    "from myst_nb import glue\n",
    "import numpy as np\n",
    "import matplotlib.pyplot as plt\n",
    "from sklearn.linear_model import LinearRegression\n",
    "\n",
    "# x from 0 to 30\n",
    "x = 30 * np.random.random((20, 1))\n",
    "\n",
    "# y = a*x + b with noise\n",
    "y = 0.2 * x + 3.0 + np.random.normal(size=x.shape)\n",
    "\n",
    "# create a linear regression model\n",
    "model = LinearRegression()\n",
    "model.fit(x, y)\n",
    "\n",
    "# predict y from the data\n",
    "x_new = np.linspace(0, 30, 100)\n",
    "y_new = model.predict(x_new[:, np.newaxis])\n",
    "\n",
    "# plot the results\n",
    "fig, ax = plt.subplots(figsize=(6, 4))\n",
    "ax.scatter(x, y, c=\"red\", label = \"data\")\n",
    "ax.plot(x_new, y_new, label = \"prediction\")\n",
    "\n",
    "ax.set_ylabel(r'Discharge (m$^3$/s)')\n",
    "ax.set_xlabel('Hydraulic Head (m)')\n",
    "\n",
    "ax.axis('tight')\n",
    "ax.legend()\n",
    "\n",
    "plt.close(fig)\n",
    "glue(\"em_fit\", fig, display=False ) "
   ]
  },
  {
   "cell_type": "code",
   "execution_count": 3,
   "metadata": {},
   "outputs": [
    {
     "name": "stdout",
     "output_type": "stream",
     "text": [
      "Provided are:\n",
      "\n",
      "hydraulic conductivity = 0.0002 m\n",
      "head at origin = 10 m\n",
      "head at L = 7.5 m\n",
      "flow length = 175 m\n",
      "Recharge = 1000 mm/a \n",
      "\n",
      "The resulting head without head is 8.84 m \n",
      "\n",
      "The resulting head with head is 8.91 m \n",
      "\n"
     ]
    }
   ],
   "source": [
    " print(\"Provided are:\\n\")\n",
    "\n",
    "K = 2E-4 # hydraulic conductivity [m/s]\n",
    "Ho = 10 # head at the origin [m]\n",
    "Hu = 7.5 # head at L [m]\n",
    "L = 175 #flow length [m]\n",
    "N1 = 0 # no recharge [m/s]\n",
    "N2 = 1000 # recharge [mm/a]\n",
    "\n",
    "# intermediate calculation \n",
    "x = L/2 # mid of the aquifer [m]\n",
    "N_ = N2/1000/365/86400 # recharge, [m/s]\n",
    " \n",
    "#solution\n",
    "h1=(Ho**2-(Ho**2-Hu**2)/L*x+(N1/K*x*(L-x)))**0.5\n",
    "h2=(Ho**2-(Ho**2-Hu**2)/L*x+(N_/K*x*(L-x)))**0.5\n",
    "\n",
    "print(\"hydraulic conductivity = {} m\\nhead at origin = {} m\\nhead at L = {} m\\nflow length = {} m\\nRecharge = {} mm/a\".format(K, Ho, Hu, L, N2 ),\"\\n\")\n",
    "print(\"The resulting head without head is {:0.2f} m \\n\".format(h1))\n",
    "print(\"The resulting head with head is {:0.2f} m \\n\".format(h2))\n",
    "\n"
   ]
  }
 ],
 "metadata": {
  "celltoolbar": "Tags",
  "hide_input": false,
  "kernelspec": {
   "display_name": "Python 3",
   "language": "python",
   "name": "python3"
  },
  "language_info": {
   "codemirror_mode": {
    "name": "ipython",
    "version": 3
   },
   "file_extension": ".py",
   "mimetype": "text/x-python",
   "name": "python",
   "nbconvert_exporter": "python",
   "pygments_lexer": "ipython3",
   "version": "3.11.5"
  },
  "latex_envs": {
   "LaTeX_envs_menu_present": true,
   "autoclose": false,
   "autocomplete": true,
   "bibliofile": "biblio.bib",
   "cite_by": "apalike",
   "current_citInitial": 1,
   "eqLabelWithNumbers": false,
   "eqNumInitial": 1,
   "hotkeys": {
    "equation": "Ctrl-E",
    "itemize": "Ctrl-I"
   },
   "labels_anchors": false,
   "latex_user_defs": false,
   "report_style_numbering": false,
   "user_envs_cfg": false
  },
  "toc": {
   "base_numbering": 1,
   "nav_menu": {},
   "number_sections": true,
   "sideBar": true,
   "skip_h1_title": false,
   "title_cell": "Table of Contents",
   "title_sidebar": "Contents",
   "toc_cell": false,
   "toc_position": {},
   "toc_section_display": true,
   "toc_window_display": false
  },
  "varInspector": {
   "cols": {
    "lenName": 16,
    "lenType": 16,
    "lenVar": 40
   },
   "kernels_config": {
    "python": {
     "delete_cmd_postfix": "",
     "delete_cmd_prefix": "del ",
     "library": "var_list.py",
     "varRefreshCmd": "print(var_dic_list())"
    },
    "r": {
     "delete_cmd_postfix": ") ",
     "delete_cmd_prefix": "rm(",
     "library": "var_list.r",
     "varRefreshCmd": "cat(var_dic_list()) "
    }
   },
   "position": {
    "height": "531.4px",
    "left": "1157px",
    "right": "20px",
    "top": "120px",
    "width": "359px"
   },
   "types_to_exclude": [
    "module",
    "function",
    "builtin_function_or_method",
    "instance",
    "_Feature"
   ],
   "window_display": false
  }
 },
 "nbformat": 4,
 "nbformat_minor": 4
}