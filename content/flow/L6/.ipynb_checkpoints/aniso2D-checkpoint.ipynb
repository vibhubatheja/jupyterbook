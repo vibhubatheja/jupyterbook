{
 "cells": [
  {
   "cell_type": "code",
   "execution_count": 1,
   "metadata": {},
   "outputs": [],
   "source": [
    "import numpy as np\n",
    "import matplotlib.pyplot as plt\n",
    "import pandas as pd\n",
    "\n",
    "#input \n",
    "\n"
   ]
  },
  {
   "cell_type": "code",
   "execution_count": 2,
   "metadata": {},
   "outputs": [
    {
     "name": "stdout",
     "output_type": "stream",
     "text": [
      "-1.0 1.2246467991473532e-16 1 1.0 1.0 -1.2246467991473532e-16 1.0 180.0\n"
     ]
    },
    {
     "data": {
      "text/html": [
       "<div>\n",
       "<style scoped>\n",
       "    .dataframe tbody tr th:only-of-type {\n",
       "        vertical-align: middle;\n",
       "    }\n",
       "\n",
       "    .dataframe tbody tr th {\n",
       "        vertical-align: top;\n",
       "    }\n",
       "\n",
       "    .dataframe thead th {\n",
       "        text-align: right;\n",
       "    }\n",
       "</style>\n",
       "<table border=\"1\" class=\"dataframe\">\n",
       "  <thead>\n",
       "    <tr style=\"text-align: right;\">\n",
       "      <th></th>\n",
       "      <th>grad_px</th>\n",
       "      <th>grad_pz</th>\n",
       "      <th>flux_px</th>\n",
       "      <th>flux_pz</th>\n",
       "    </tr>\n",
       "  </thead>\n",
       "  <tbody>\n",
       "    <tr>\n",
       "      <th>0</th>\n",
       "      <td>0.0</td>\n",
       "      <td>0.000000e+00</td>\n",
       "      <td>0.0</td>\n",
       "      <td>0.000000e+00</td>\n",
       "    </tr>\n",
       "    <tr>\n",
       "      <th>1</th>\n",
       "      <td>-1.0</td>\n",
       "      <td>1.224647e-16</td>\n",
       "      <td>1.0</td>\n",
       "      <td>-1.224647e-16</td>\n",
       "    </tr>\n",
       "  </tbody>\n",
       "</table>\n",
       "</div>"
      ],
      "text/plain": [
       "   grad_px       grad_pz  flux_px       flux_pz\n",
       "0      0.0  0.000000e+00      0.0  0.000000e+00\n",
       "1     -1.0  1.224647e-16      1.0 -1.224647e-16"
      ]
     },
     "execution_count": 2,
     "metadata": {},
     "output_type": "execute_result"
    },
    {
     "data": {
      "image/png": "[encoded data removed]",
      "text/plain": [
       "<Figure size 640x480 with 1 Axes>"
      ]
     },
     "metadata": {},
     "output_type": "display_data"
    }
   ],
   "source": [
    "\n",
    "a_d = 90*2# degree\n",
    "ani_r = 1 # aniso\n",
    "\n",
    "\n",
    "# interim calculation\n",
    "a_r = a_d*np.pi/180\n",
    "\n",
    "i_xr = np.cos(a_r) # (-), rel. hyd grad. along x\n",
    "i_zr = np.sin(a_r) # (-), rel. hyd grad. along z\n",
    "K_h = 1 # (-), m/s K_h\n",
    "K_v = 1/ani_r # m/s, rel K_v\n",
    "f_x = -i_xr*K_h # m/s\n",
    "f_z = -i_zr*K_v # m/s\n",
    "f_m = np.sqrt(f_x*f_x+f_z*f_z) # m/s\n",
    "\n",
    "args = (K_h*i_xr*i_xr + K_v*i_zr*i_zr)/f_m\n",
    "an_i_f = ((np.pi-np.arccos(args))*180/np.pi)# deg,\n",
    "\n",
    "print(i_xr, i_zr,K_h, K_v, f_x, f_z, f_m, an_i_f)\n",
    "\n",
    "grad_px = [0, i_xr]#i_xr\n",
    "grad_pz = [0, i_zr]#i_zr\n",
    "plt.plot(grad_pz, grad_px, \"r\")\n",
    "\n",
    "flux_px = [0, f_x]\n",
    "flux_pz = [0, f_z]\n",
    "plt.plot(flux_pz, flux_px, \"g\")\n",
    "\n",
    "data={\"grad_px\":grad_px, \"grad_pz\":grad_pz, \"flux_px\":flux_px, \"flux_pz\":flux_pz}\n",
    "df1=pd.DataFrame(data)\n",
    "df1"
   ]
  },
  {
   "cell_type": "markdown",
   "metadata": {},
   "source": [
    "## i_xr"
   ]
  },
  {
   "cell_type": "code",
   "execution_count": null,
   "metadata": {},
   "outputs": [],
   "source": [
    "\n"
   ]
  }
 ],
 "metadata": {
  "kernelspec": {
   "display_name": "Python 3 (ipykernel)",
   "language": "python",
   "name": "python3"
  },
  "language_info": {
   "codemirror_mode": {
    "name": "ipython",
    "version": 3
   },
   "file_extension": ".py",
   "mimetype": "text/x-python",
   "name": "python",
   "nbconvert_exporter": "python",
   "pygments_lexer": "ipython3",
   "version": "3.11.5"
  }
 },
 "nbformat": 4,
 "nbformat_minor": 4
}
